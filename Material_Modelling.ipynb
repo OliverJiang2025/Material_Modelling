{
 "cells": [
  {
   "cell_type": "markdown",
   "metadata": {},
   "source": [
    "# Material Modelling"
   ]
  },
  {
   "cell_type": "markdown",
   "metadata": {},
   "source": [
    "Import all modules required for the task (morse module is provided and morse.py is put in the same directory):"
   ]
  },
  {
   "cell_type": "code",
   "execution_count": 198,
   "metadata": {},
   "outputs": [],
   "source": [
    "from __future__ import print_function\n",
    "import numpy as np\n",
    "from ase import Atoms\n",
    "from ase.units import eV, Ang, GPa\n",
    "import sys\n",
    "sys.path.append(r'files')\n",
    "import morse\n",
    "%matplotlib inline\n",
    "import matplotlib.pyplot as plt"
   ]
  },
  {
   "cell_type": "markdown",
   "metadata": {},
   "source": [
    "## Task 1\n",
    "This code models 2 copper atoms that has a distance 2.5A."
   ]
  },
  {
   "cell_type": "code",
   "execution_count": 199,
   "metadata": {},
   "outputs": [
    {
     "data": {
      "text/plain": [
       "(-0.14929402163819286,\n",
       " array([[0. , 0. , 0. ],\n",
       "        [0. , 0. , 2.5]]))"
      ]
     },
     "execution_count": 199,
     "metadata": {},
     "output_type": "execute_result"
    }
   ],
   "source": [
    "d = 2.5*Ang\n",
    "a = Atoms('2Cu', positions=[(0., 0., 0.), (0., 0., d)])\n",
    "calc = morse.MorsePotential()\n",
    "a.calc = calc # note that this sets calculator to a\n",
    "pe = a.get_potential_energy()\n",
    "pos = a.get_positions()\n",
    "pe, pos"
   ]
  },
  {
   "cell_type": "markdown",
   "metadata": {},
   "source": [
    "We can change the positions of atoms and get the force exerted by the atoms:"
   ]
  },
  {
   "cell_type": "code",
   "execution_count": 200,
   "metadata": {},
   "outputs": [
    {
     "data": {
      "text/plain": [
       "(array([[0. , 0. , 0. ],\n",
       "        [0. , 0. , 2.8]]),\n",
       " -0.1451042133708922,\n",
       " array([[ 0.        ,  0.        ,  0.14692478],\n",
       "        [ 0.        ,  0.        , -0.14692478]]))"
      ]
     },
     "execution_count": 200,
     "metadata": {},
     "output_type": "execute_result"
    }
   ],
   "source": [
    "pos[1,2] = 2.8\n",
    "a.set_positions(pos)\n",
    "pe = a.get_potential_energy()\n",
    "f = a.get_forces()\n",
    "pos, pe, f"
   ]
  },
  {
   "cell_type": "markdown",
   "metadata": {},
   "source": [
    "# Deliverable 1\n",
    "Write a function that computes the Morse potential energy for two atoms for a given distance between them, and use it to:\n",
    "\n",
    "1. Create a plot of the energy against distance. Now do the same for the the force exerted by one atom on the other.\n",
    "\n",
    "2. What is the distance between the two atoms corresponding to the lowest potential energy ?\n",
    "\n",
    "Hint: You can create an array of distances, and for each one create the Atoms object and compute the potential energy and forces. Make sure to use a sensible range of distances - if atoms are too close, the plot will be dominated by the repulsive interaction."
   ]
  },
  {
   "cell_type": "code",
   "execution_count": 201,
   "metadata": {},
   "outputs": [
    {
     "name": "stdout",
     "output_type": "stream",
     "text": [
      "distance with minimum PE = 2.612613 ang\n"
     ]
    },
    {
     "data": {
      "image/png": "[encoded data removed]",
      "text/plain": [
       "<Figure size 640x480 with 1 Axes>"
      ]
     },
     "metadata": {},
     "output_type": "display_data"
    }
   ],
   "source": [
    "#create distance and pe arrays to hold data\n",
    "distances = np.linspace(1.8,10,1000)\n",
    "pes = np.empty_like(distances)\n",
    "for i in range(len(distances)):\n",
    "    d = distances[i]\n",
    "    a = Atoms('2Cu',positions=[(0,0,0),(0,0,d*Ang)])\n",
    "    calc = morse.MorsePotential()\n",
    "    a.calc = calc # note that this sets calculator to a\n",
    "    pe = a.get_potential_energy()\n",
    "    pes[i] = pe\n",
    "min_pe = np.min(pes)\n",
    "index = np.argmin(pes)\n",
    "min_distance = distances[index]\n",
    "print('distance with minimum PE = %f ang'%min_distance)\n",
    "\n",
    "plt.plot(distances, pes, color = 'blue', label='Potential Energy')\n",
    "plt.scatter(min_distance, min_pe, color = 'orange', label = 'Minimum PE point')\n",
    "plt.xlabel('distance (Ang)')\n",
    "plt.ylabel('Potential Energy (eV)')\n",
    "plt.ylim(-2,4)\n",
    "plt.axhline(y=0, color='red', linestyle='--', label='Zero potential surface')\n",
    "plt.title('PE against distance')\n",
    "plt.legend()\n",
    "plt.show()\n",
    "    "
   ]
  },
  {
   "cell_type": "markdown",
   "metadata": {},
   "source": [
    "# Task and Deliverable 2\n",
    "1. Write a unit test that verifies that the forces returned by the get_forces() function is really the negative gradient of the energy (as returned by the get_potential_energy() function) with respect to the atomic positions. Do this by comparing the forces returned by get_forces() to those obtained by numerical finite differences of energies between two sets of atomic positions, displaced by small amount.\n",
    "\n",
    "2. Experiment with different values of ϵ and look at how accurate the approximation is as a function of ϵ.\n",
    "\n",
    "3. What goes wrong if you make ϵ too small?"
   ]
  },
  {
   "cell_type": "code",
   "execution_count": 202,
   "metadata": {},
   "outputs": [
    {
     "data": {
      "text/plain": [
       "(0.9572822919986725,\n",
       " array([[ 0.        ,  0.        , -6.46195414],\n",
       "        [ 0.        ,  0.        ,  6.46195414]]))"
      ]
     },
     "execution_count": 202,
     "metadata": {},
     "output_type": "execute_result"
    }
   ],
   "source": [
    "#define atoms object\n",
    "a = Atoms('2Cu',positions=[(0,0,0),(0,0,2*Ang)])\n",
    "calc = morse.MorsePotential()\n",
    "a.calc = calc \n",
    "\n",
    "#small displacement\n",
    "dx = 0.1\n",
    "\n",
    "# return gradient of f at x with a small displacement dx\n",
    "def grad(f, x, dx):\n",
    "    return (f(x+dx) - f(x))/dx\n",
    "\n",
    "\n",
    "\n",
    "\n",
    "pe = a.get_potential_energy()\n",
    "f = a.get_forces()\n",
    "pe, f"
   ]
  }
 ],
 "metadata": {
  "kernelspec": {
   "display_name": "base",
   "language": "python",
   "name": "python3"
  },
  "language_info": {
   "codemirror_mode": {
    "name": "ipython",
    "version": 3
   },
   "file_extension": ".py",
   "mimetype": "text/x-python",
   "name": "python",
   "nbconvert_exporter": "python",
   "pygments_lexer": "ipython3",
   "version": "3.12.3"
  }
 },
 "nbformat": 4,
 "nbformat_minor": 2
}
